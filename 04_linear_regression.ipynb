{
 "cells": [
  {
   "cell_type": "markdown",
   "metadata": {},
   "source": [
    "# Линейная регрессия\n",
    "$$a(x) = w_0 + w_1 x_1 + ... + w_d x_d$$\n",
    "- $w_0$ - свободный коэффициент, сдвиг, bias. Без свободного коэффициента модель гарантированно будет давать нулевой прогноз при нулевых значениях всех признаков, а это ограничивает возможности по подгонке под данные\n",
    "\n",
    "\n",
    "- $w_i$ - веса, коэффициенты, параметры модели\n",
    "- $d+1$ - количество параметров\n",
    "\n",
    "$$a(x) = w_0 + w_1 x_1 + ... + w_d x_d = w_0 + <w,x>$$\n",
    "\n",
    "Для удобства и возможности применять скалярное произведения добавим единичный признак:\n",
    "\n",
    "$$a(x) = w_0 * 1 + w_1 x_1 + ... + w_d x_d = <w,x>$$"
   ]
  },
  {
   "cell_type": "markdown",
   "metadata": {},
   "source": [
    "### Пример\n",
    "$$a(x) = w_0 + w_1 (площадь \\_ квартиры) + w_2 (район) + w_3 (расстояние \\_ до \\_ метро)$$\n",
    "#### Что делать, если признаки не числовые (район)?\n",
    "- район - категориальный признак, нужно закодировать.\n",
    "- one-hot кодирование, бинарное кодирование\n",
    "- Вместо одного категориального признака заведём много бинарных. Первый признак - это индикатор того, что исходный категориальный признак равен первой категории, второй признак - равенство второй категории. Это значит, что только один бинарный признак будет равен единице, остальные - нули. \n",
    "| Район | \n",
    "| --- | \n",
    "|Чкаловский|\n",
    "|Эльмаш|\n",
    "|Уралмаш|\n",
    "|Эльмаш|\n",
    "|Чкаловский|\n",
    "\n",
    "| Чкаловский | Эльмаш | Уралмаш |\n",
    "| --- | --- | --- |\n",
    "|1|0|0|\n",
    "|0|1|0|\n",
    "|0|0|1|\n",
    "|0|1|0|\n",
    "|1|0|0|\n",
    "\n",
    "\n",
    "$$a(x) = w_0 + w_1 (площадь) + w_2 (квартира \\ находится\\ в\\ Чкаловском\\ р-не?) + w_3 (квартира \\ находится\\ на\\ Эльмаше?) + w_4 (квартира \\ находится\\ на\\ Уралмаше?) $$\n",
    "\n"
   ]
  },
  {
   "cell_type": "markdown",
   "metadata": {},
   "source": [
    "#### Что делать, если зависимость нелинейная (расстояние до метро)?\n",
    "<img src = 'images/underground.png'>\n",
    "Разобьем на линейные отрезки (новые признаки).\n",
    "Если расстояние до метро попало в интервал от $t_0$ до $t_1$, то признак равен 1. Остальные признаки попадания в интервал равны 0.\n",
    "\n",
    "$$a(x) = w_0 + w_1 *(площадь) + ... + w_3 * [t_0 <= x_3 < t_1] + ... + w_{3+n}[t_{n-1} <= x_3 < t_n]$$"
   ]
  },
  {
   "cell_type": "markdown",
   "metadata": {},
   "source": [
    "Модель линейной регрессии применима, если трансформировать все признаки специально под неё, например, использовать one-hot кодирование категориальных признаков или бинаризацию числовых"
   ]
  },
  {
   "cell_type": "markdown",
   "metadata": {},
   "source": [
    "## Модель линейной регрессии\n",
    "$$a(x) = <w, x>$$\n",
    "\n",
    "Запишем задачу оптимизации в матричном виде:\n"
   ]
  },
  {
   "cell_type": "markdown",
   "metadata": {},
   "source": [
    "__Матрица объекты-признаки:__\n",
    "$$\\begin{pmatrix} x_{11} & x_{12} & \\dots & x_{1d} \\\\ x_{21} & x_{22} & \\dots & x_{2d} \\\\ \\dots & \\dots & \\dots & \\dots \\\\ x_{l1} & x_{l2} & \\dots & x_{ld} \\end{pmatrix}$$\n",
    "Каждая строка соответствует объекту, столбцы - признаки. \n",
    "\n",
    "$$\\begin{pmatrix} w_1 \\\\ w_2 \\\\ \\dots \\\\ w_d \\end{pmatrix}$$\n",
    "__Применение линейной модели:__\n",
    "$$a(x) = <w, x> = w_1 x_1 + \\dots + w_d x_d$$\n",
    "\n",
    "__Нужно получить вектор прогнозов на всей обучающей выборке:__\n",
    "$$\\begin{pmatrix} \\sum _{i=1} ^ d w_i x_{1i} \\\\ \\sum _{i=1} ^ d w_i x_{2i} \\\\ \\dots \\\\ \\sum _{i=1} ^ d w_i x_{li} \\end{pmatrix}$$\n",
    "Первая строка - сумма всех признаков первого объекта с весами.\n",
    "\n",
    "__Матричное умножение:__\n",
    "$$AB=C$$\n",
    "$$c_{ij} = \\sum_{p=1}^{k} a_{ip}b_{pj}$$\n",
    "_Скалярное умножение i-строки первой матрицы на j-столбец второй матрицы_"
   ]
  },
  {
   "cell_type": "markdown",
   "metadata": {},
   "source": [
    "__Результат применения линейной модели к выборке X:__\n",
    "$$Xw=\\begin{pmatrix} x_{11} & x_{12} & \\dots & x_{1d} \\\\ x_{21} & x_{22} & \\dots & x_{2d} \\\\ \\dots & \\dots & \\dots & \\dots \\\\ x_{l1} & x_{l2} & \\dots & x_{ld} \\end{pmatrix} * \\begin{pmatrix} w_1 \\\\ w_2 \\\\ \\dots \\\\ w_d \\end{pmatrix}=\\begin{pmatrix} \\sum _{i=1} ^ d w_i x_{1i} \\\\ \\sum _{i=1} ^ d w_i x_{2i} \\\\ \\dots \\\\ \\sum _{i=1} ^ d w_i x_{li} \\end{pmatrix}=\\begin{pmatrix} <w, x_1> \\\\ \\dots \\\\ <w,x_l>\\end{pmatrix}$$"
   ]
  },
  {
   "cell_type": "markdown",
   "metadata": {},
   "source": [
    "__Cреднеквадратическая ошибка:__\n",
    "$$\\displaystyle {\\frac{1}{l} \\sum _{i=1}^{l}{(<w,x_i> - y_i)^2 -> min_w}}$$\n",
    "__Отклонения прогнозов от ответов:__\n",
    "$$Xw-y=\\begin{pmatrix} <w, x_1> - y_1 \\\\ \\dots \\\\ <w,x_l> - y_l\\end{pmatrix}$$\n",
    "$Xw$ - прогнозы\n",
    "\n",
    "$y$ - истинные ответы\n",
    "\n",
    "__Средний квадрат отклонения:__\n",
    "\n",
    "\n",
    "Евклидова норма:\n",
    "$$||z|| = \\sqrt {\\sum _{j=1} ^ n z_{j}^2}$$\n",
    "Можно возвести в квадрат:\n",
    "$$||z||^2 = \\sum _{j=1} ^ n z_{j}^2$$\n",
    "\n",
    "__MSE в матричном виде:__\n",
    "$$\\displaystyle {\\frac{1}{l} ||Xw-y||^2 = \\frac{1}{l} \\sum _{i=1}^{l}{(<w,x_i> - y_i)^2 -> min_w}}$$\n",
    "\n",
    "_Умножаем матрицу объекты-признаки $X$ на $w$, вычитаем истинные ответы $y$, берем квадрат евклидовой нормы и делим на $l$_\n",
    "\n",
    "_В numpy: np.square(X.dot(w)-y).mean()_\n",
    "\n",
    "- Берём объект $x_i$, считаем прогноз модели $<w,x_i>$, вычитаем истинный ответ $y_i$, возводим в квадрат, усредняем по всей выборке. Нужно найти $w$, при котором ошибка будет как можно меньше. "
   ]
  },
  {
   "cell_type": "markdown",
   "metadata": {},
   "source": [
    "## Обучение линейной регрессии\n",
    "Требуется найти $w$\n",
    "$$Q(w_1, \\dots, w_d)=\\sum _{i=1} ^{l} (w_1 x_1 + \\dots + w_d x_d -y_i)^2$$\n",
    "Производная:\n",
    "$$\\displaystyle{\\lim_{x \\to x_0} \\frac{f(x) - f(x_0)}{x - x_0} = f'(x_0)}$$\n",
    "<img src = 'images/derivative.png'>\n",
    "- Зафиксируем точку $x_0$\n",
    "- Возьмём точку $x$ рядом с $x_0$\n",
    "- Знаменатель - разница между $x$ и $x_0$\n",
    "- Числитель - разница между значениями функции в этих точках\n",
    "- Разделим\n",
    "\n",
    "\n",
    "Узнаем, насколько быстро функция растёт между этими двумя точками.\n",
    "Если приближать $x$ и $x_0$, то в пределе получим производную функции $f$ в точке $x_0$"
   ]
  },
  {
   "cell_type": "markdown",
   "metadata": {},
   "source": [
    "__Геометрический смысл:__ \n",
    "\n",
    "Производная - угол наклона касательной, которую можно провести к графику функции в точке $x_0$. Если функция растёт быстро, то касательная проходит под большим углом, производная большая. Если функция почти не растёт, то касательная будет почти горизонтальной, угол близок к 0.\n",
    "\n",
    "__Свойство производной:__ если взять точку экстремума (минимум или максимум функции), то производная в ней будет равна 0. \n",
    "$$f'(x_0)=0$$\n",
    "<img src = 'images/derivative2.png'>\n",
    "\n",
    "Алгоритм поиска всех минимумов и максимумов функции, если функция дифференцируема (везде есть производная). \n",
    "- считаем производную\n",
    "- приравниваем к 0\n",
    "- находим корни уравнения\n",
    "- смотрим, где значение меньше всего (минимум)\n",
    "\n"
   ]
  },
  {
   "cell_type": "markdown",
   "metadata": {},
   "source": [
    "__Градиент функции:__\n",
    "\n",
    "Градиент - вектор частных производных\n",
    "\n",
    "\n",
    "$$\\nabla f(x) = \\begin{pmatrix} \\frac {\\partial f}{\\partial x_1} & \\dots &  \\frac {\\partial f} {\\partial x_d} \\end{pmatrix}$$\n",
    "\n",
    "Считаем производную функции в отдельности для каждой переменной $x_1, x_2, \\dots, x_d$ (частные производные), составляем вектор из частных производных - градиент (обобщение производной для функции многих переменных). \n",
    "\n",
    "<img src='images/gradient.png'>\n",
    "\n",
    "Фиксируем точку $x_0$. В какую сторону функция быстрее всего растёт? Функция растёт в направлении градиента. Если градиент взять с минусом, то он покажет в сторону наискорейшего убывания функции. \n",
    "Если градиент равен нулю, то это экстремум.\n",
    "\n",
    "#### Необходимое условие экстремума:\n",
    "\n",
    "Если точка $x_0$ - экстремум и в ней существует производная, то $$\\nabla f(x_0)=0 $$\n",
    "Можно посчитать градиент функции, приравнять нулю, решить систему уравнений. Ответов может быть много. \n",
    "\n",
    "- Если функция строго выпуклая, то экстремум один. \n",
    "\n",
    "- MSE линейной регрессии - выпуклая функция\n",
    "\n"
   ]
  },
  {
   "cell_type": "markdown",
   "metadata": {},
   "source": [
    "#### Градиент MSE в матричном виде:\n",
    "\n",
    "$$\\displaystyle {\\nabla \\frac{1}{l} ||Xw-y||^2 = \\frac{2}{l} X^T (Xw-y)}$$\n",
    "#### Аналитическое решение:\n",
    "Приравняем нулю, решаем систему линейных уравнений:\n",
    "\n",
    "$$w=(X^T X)^{-1} X^T y$$\n",
    "\n",
    "- $X^T X$ - ковариационная матрица\n",
    "\n",
    "- Если матрица $X^T X$ вырожденная (или почти вырожденная, определитель или собственные значения близки к нулю), то будут проблемы (обратной матрицы не существует). \n",
    "\n",
    "- Если признаков много - долго ждать (кубическое время). \n",
    "\n",
    "- Если не MSE, то решения в аналитическом виде может не быть\n",
    "\n",
    "sklearn.linear_model.LinearRegression(fit_intercept=True, normalize=False, copy_X=True, n_jobs=None)\n",
    "- fit_intercep - нужно ли включать $w_0$, или уже создан единичный признак"
   ]
  },
  {
   "cell_type": "markdown",
   "metadata": {},
   "source": [
    "## Переобучение и регуляризация\n",
    "### Нелинейная задача\n",
    "<img src='images/linear1.png'>\n",
    "$$a(x)=w_0 +w_1 x$$\n",
    "Синие точки - выборка, один признак, истинная зависимость - синус\n",
    "\n"
   ]
  },
  {
   "cell_type": "markdown",
   "metadata": {},
   "source": [
    "Усложним модель, сделаем её полиномиальной, а не линейной. Добавим новые признаки. Получаем хорошую модель. \n",
    "$$a(x)=w_0 +w_1 x + w_2 x^2 +w_3 x^3 + w_4 x^4$$\n",
    "Но качество неидеально, кривая проходит не через все точки. \n",
    "\n",
    "<img src='images/linear_sin4.png'>\n",
    "Добавим еще степеней:\n",
    "$$a(x)=w_0 +w_1 x + w_2 x^2 +w_3 x^3 + \\dots + w_{15} x^{15}$$\n",
    "Ошибка такой модели будет намного меньше (на обучающей выборке). \n",
    "Но модель переобучена. Качество на новых данных будет очень плохим. \n",
    "\n",
    "<img src='images/linear2.png'>"
   ]
  },
  {
   "cell_type": "markdown",
   "metadata": {},
   "source": [
    "#### Симптом переобучения\n",
    "- Большие коэффициенты, значения весов\n",
    "- Эмпирическое наблюдение\n",
    "$$a(x) = 0.5 + 12345678 x - 6661366613 x^2 + \\dots$$\n",
    "\n",
    "### Регуляризация\n",
    "Будем штрафовать модель за большие веса\n",
    "\n",
    "MSE:\n",
    "$$\\displaystyle {Q(a, X) = \\frac{1}{l} \\sum _{i=1}^{l}{(<w,x_i> - y_i)^2 -> min_w}}$$\n",
    "\n",
    "Добавим __регуляризатор__ (штраф модели за большие веса):\n",
    "\n",
    "$$||w||^2= \\sum _{j=1} ^d  w^2 _j$$\n",
    "\n",
    "Квадрат евклидовой нормы весов (сумма квадратов весов).\n",
    "\n",
    "Получим регуляризованный функционал:\n",
    " $$\\displaystyle {\\frac{1}{l} \\sum _{i=1}^{l}{(<w,x_i> - y_i)^2 + \\lambda ||w||^2-> min_w}}$$\n",
    "\n",
    "\n",
    "$\\lambda$ - коэффициент регуляризации. Насколько нам важно, чтобы веса были небольшими. Чем больше коэффициент, тем сильнее регуляризация. \n",
    "\n",
    "Аналитическое решение:\n",
    "$$w=(X^T X + \\lambda I)^{-1} X^T y$$\n",
    "\n",
    "$\\lambda I$ - диагональная матрица\n",
    "\n",
    "Гребневая регрессия (Ridge regression)\n",
    "\n",
    "sklearn.linear_model.Ridge(alpha=1.0...)\n",
    "\n",
    "#### Эффект регуляризации:\n",
    "$$a(x)=w_0 +w_1 x + w_2 x^2 +w_3 x^3 + \\dots + w_{15} x^{15}$$\n",
    "\n",
    "$$\\displaystyle {\\frac{1}{l} \\sum _{i=1}^{l}{(a(x_i) - y_i)^2 + 0.01 ||w||^2-> min_w}}$$\n",
    "\n",
    "<img src=images/linear3.png>\n",
    "\n",
    "Увеличим коэффициент регуляризации\n",
    "$$\\displaystyle {\\frac{1}{l} \\sum _{i=1}^{l}{(a(x_i) - y_i)^2 + 1 ||w||^2-> min_w}}$$\n",
    "\n",
    "<img src=images/linear4.png>\n",
    "\n",
    "\n",
    "При слишком большом коэффициенте регуляризации модели проще иметь нулевые веса, чем пытаться уменьшить ошибку\n",
    "$$\\displaystyle {\\frac{1}{l} \\sum _{i=1}^{l}{(a(x_i) - y_i)^2 + 100 ||w||^2-> min_w}}$$\n",
    "\n",
    "<img src=images/linear5.png>"
   ]
  },
  {
   "cell_type": "markdown",
   "metadata": {},
   "source": [
    "$\\lambda$ - гиперпараметр, его необходимо подбирать по отложенной выборке или кросс-валидации. Если подбирать по обучающей, то он будет равен 0. "
   ]
  },
  {
   "cell_type": "markdown",
   "metadata": {},
   "source": [
    "#### LASSO (Least Absolute Shrinkage and Selection Operator)\n",
    "- используем не евклидову норму, а модули весов\n",
    "- некоторые веса зануляются\n",
    "- приводит к отбору признаков\n",
    "- чем больше $\\lambda$, тем больше весов будут нулевыми\n",
    "\n",
    "$$\\displaystyle {\\frac{1}{l} \\sum _{i=1}^{l}{(<w, x_i> - y_i)^2 + \\lambda \\sum ^{d} _{j=1} |w_j|-> min_w}}$$\n",
    "\n",
    "\n",
    "#### Регуляризаторы\n",
    "\n",
    "$||z||_2 = \\sqrt {\\sum _{j=1} ^d z^2 _j}$ - $L_2$-норма, евклидова\n",
    "\n",
    "$||z||_1 = \\sqrt {\\sum _{j=1} ^d |z _j|}$ - $L_1$-норма, манхэттенская"
   ]
  },
  {
   "cell_type": "markdown",
   "metadata": {},
   "source": [
    "### Интерпретация линейных моделей\n",
    "Предсказание стоимости квартиры\n",
    "$$a(x) = 100000 * (площадь) + 500000 * (число\\_магазинов\\_рядом) + 100 * (средний\\_доход\\_жильцов\\_дома)$$\n",
    "\n",
    "Какой признак важнее?\n",
    "\n",
    "Чем больше вес, тем важнее признак? Да, если признаки масштабированы.\n",
    "\n",
    "#### Масштабирование признаков\n",
    "Вычислим среднее и стандартное отклонение признака на обучающей выборке:\n",
    "\n",
    "$$\\mu_j = \\frac{1}{l} \\sum _{i=1} ^{l} x_i ^j$$\n",
    "\n",
    "$$\\sigma_j = \\sqrt{\\frac{1}{l} \\sum _{i=1} ^{l} (x_i ^j - \\mu_j)^2}$$\n",
    "\n",
    "Вычтем из каждого значения признака среднее и поделим на стандартное отклонение:\n",
    "\n",
    "$$x_i ^j = \\frac{x_i ^j - \\mu _j}{\\sigma_j}$$\n",
    "\n",
    "\n",
    "Или можно масштабировать на отрезок 0-1 (вычесть минимальное значение признака и поделить на разницу между максимальным и минимальным)"
   ]
  },
  {
   "cell_type": "markdown",
   "metadata": {},
   "source": [
    "# Домашнее задание\n",
    "## Задача 1\n",
    "Построить модель линейной регрессии.\n",
    "- линейная модель\n",
    "- полином второй степени\n",
    "- полином третьей степени\n",
    "- экспонента \n",
    "\n",
    "\n",
    "Построить графики получившихся функций (линейная, квадратичная, кубическая, экспонента) и тренировочной выборки. \n",
    "- Посчитать MSE для каждого случая\n",
    "- Выбрать наилучший вариант (без тестовой выборки)\n",
    "\n",
    "\n",
    "Для решения можете использовать np.linalg.lstsq, np.polyfit, np.poly1d, scipy.stats.linregress, scipy.optimize.curve_fit, sklearn.linear_model.LinearRegression, statsmodels, np.linalg.solve (аналитически) или с помощью стохастического градиентного спуска (написать самостоятельно)."
   ]
  },
  {
   "cell_type": "code",
   "execution_count": 1,
   "metadata": {},
   "outputs": [],
   "source": [
    "import numpy as np\n",
    "import matplotlib.pyplot as plt"
   ]
  },
  {
   "cell_type": "code",
   "execution_count": 2,
   "metadata": {},
   "outputs": [],
   "source": [
    "y = np.array([12.19, 8.41, 14.68, 8.64, 32.94, 22.61, 45.92, 23.63, 18.59, 36.22, 50.10, 46.22, 23.63, 47.30, 40.03, 56.53, 38.41, 51.47, 6.29, 35.41, 67.79, 74.21, 79.12, 45.10])\n",
    "x = np.linspace(0, 1, num = 24)"
   ]
  },
  {
   "cell_type": "code",
   "execution_count": 3,
   "metadata": {},
   "outputs": [
    {
     "data": {
      "image/png": "[encoded data removed]",
      "text/plain": [
       "<Figure size 432x288 with 1 Axes>"
      ]
     },
     "metadata": {
      "needs_background": "light"
     },
     "output_type": "display_data"
    }
   ],
   "source": [
    "plt.scatter(x, y);"
   ]
  },
  {
   "cell_type": "markdown",
   "metadata": {},
   "source": [
    "Пример решения для полинома второй степени:\n",
    "$$y (x) = w_{0}+w_{1}x +w_{2}x^2$$ \n",
    "\n",
    "\\begin{equation*}\n",
    "\\begin{vmatrix}\n",
    "y_{1} \\\\\n",
    "y_{2} \\\\\n",
    ". \\\\\n",
    "y_{N} \\\\\n",
    "\\end{vmatrix}=\n",
    "\\begin{vmatrix}\n",
    "1 & x_{1} & x_{1}^{2}\\\\\n",
    "1 & x_{2} & x_{2}^{2}\\\\\n",
    ". & . & .\\\\\n",
    "1 & x_{N} & x_{N}^{2}\\\\\n",
    "\\end{vmatrix}\n",
    "\\begin{vmatrix}\n",
    "w_{0} \\\\\n",
    "w_{1} \\\\\n",
    "w_{2}\n",
    "\\end{vmatrix}\n",
    "\\end{equation*}"
   ]
  },
  {
   "cell_type": "code",
   "execution_count": 4,
   "metadata": {},
   "outputs": [],
   "source": [
    "X = list(zip(np.ones(24), x, x*x))"
   ]
  },
  {
   "cell_type": "code",
   "execution_count": 5,
   "metadata": {},
   "outputs": [],
   "source": [
    "W = np.linalg.lstsq(X, y, rcond=None)[0]"
   ]
  },
  {
   "cell_type": "code",
   "execution_count": 6,
   "metadata": {},
   "outputs": [
    {
     "data": {
      "text/plain": [
       "array([12.1867    , 55.61441818, -9.10381818])"
      ]
     },
     "execution_count": 6,
     "metadata": {},
     "output_type": "execute_result"
    }
   ],
   "source": [
    "W"
   ]
  },
  {
   "cell_type": "code",
   "execution_count": 7,
   "metadata": {},
   "outputs": [],
   "source": [
    "def f(x, w): \n",
    "    return w[0] + w[1]*x + w[2]*x*x"
   ]
  },
  {
   "cell_type": "code",
   "execution_count": 8,
   "metadata": {},
   "outputs": [
    {
     "data": {
      "text/plain": [
       "array([12.1867    , 14.5875087 , 16.95389842, 19.28586917, 21.58342095,\n",
       "       23.84655375, 26.07526759, 28.26956245, 30.42943834, 32.55489526,\n",
       "       34.6459332 , 36.70255217, 38.72475217, 40.7125332 , 42.66589526,\n",
       "       44.58483834, 46.46936245, 48.31946759, 50.13515375, 51.91642095,\n",
       "       53.66326917, 55.37569842, 57.0537087 , 58.6973    ])"
      ]
     },
     "execution_count": 8,
     "metadata": {},
     "output_type": "execute_result"
    }
   ],
   "source": [
    "f(x, W)"
   ]
  },
  {
   "cell_type": "code",
   "execution_count": 9,
   "metadata": {},
   "outputs": [
    {
     "data": {
      "image/png": "[encoded data removed]",
      "text/plain": [
       "<Figure size 432x288 with 1 Axes>"
      ]
     },
     "metadata": {
      "needs_background": "light"
     },
     "output_type": "display_data"
    }
   ],
   "source": [
    "plt.scatter(x, y, label='train set')\n",
    "plt.plot(x, f(x, W), label='quad lstsq')\n",
    "plt.legend();"
   ]
  },
  {
   "cell_type": "code",
   "execution_count": 10,
   "metadata": {},
   "outputs": [],
   "source": [
    "from sklearn.metrics import mean_squared_error"
   ]
  },
  {
   "cell_type": "code",
   "execution_count": 11,
   "metadata": {},
   "outputs": [
    {
     "data": {
      "text/plain": [
       "212.5935367855731"
      ]
     },
     "execution_count": 11,
     "metadata": {},
     "output_type": "execute_result"
    }
   ],
   "source": [
    "mean_squared_error(y, f(x, W))"
   ]
  },
  {
   "cell_type": "markdown",
   "metadata": {},
   "source": [
    "## Задача 2\n",
    "\n",
    "Данные: https://scikit-learn.org/stable/datasets/toy_dataset.html#diabetes-dataset \n",
    "\n",
    "1. Разделите данные на train/test или используйте кросс-валидацию (можно grid search)\n",
    "\n",
    "2. Постройте несколько моделей линейной регрессии:\n",
    "- sklearn.linear_model.LinearRegression\n",
    "- sklearn.linear_model.Ridge\n",
    "- sklearn.linear_model.Lasso\n",
    "- sklearn.linear_model.ElasticNet\n",
    "3. Для последних трёх вариантов попробуйте разные значения коэффициента регуляризации.\n",
    "4. Сравните построенные модели по MSE на тестовой выборке (или через кросс-валидацию)\n",
    "5. Какая модель оказалась наилучшей? Почему?"
   ]
  },
  {
   "cell_type": "code",
   "execution_count": 12,
   "metadata": {},
   "outputs": [],
   "source": [
    "from sklearn import datasets, linear_model\n",
    "from sklearn.metrics import mean_squared_error, r2_score\n",
    "\n",
    "diabetes_X, diabetes_y = datasets.load_diabetes(return_X_y=True)"
   ]
  }
 ],
 "metadata": {
  "kernelspec": {
   "display_name": "base",
   "language": "python",
   "name": "base"
  },
  "language_info": {
   "codemirror_mode": {
    "name": "ipython",
    "version": 3
   },
   "file_extension": ".py",
   "mimetype": "text/x-python",
   "name": "python",
   "nbconvert_exporter": "python",
   "pygments_lexer": "ipython3",
   "version": "3.7.4"
  }
 },
 "nbformat": 4,
 "nbformat_minor": 4
}
